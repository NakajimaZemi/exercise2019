{
 "cells": [
  {
   "cell_type": "markdown",
   "metadata": {},
   "source": [
    "まず最初にpythonのみで"
   ]
  },
  {
   "cell_type": "code",
   "execution_count": 1,
   "metadata": {},
   "outputs": [],
   "source": [
    "import math"
   ]
  },
  {
   "cell_type": "code",
   "execution_count": 2,
   "metadata": {},
   "outputs": [],
   "source": [
    "import numpy as np"
   ]
  },
  {
   "cell_type": "code",
   "execution_count": 3,
   "metadata": {},
   "outputs": [],
   "source": [
    "S0=36\n",
    "T=1.0\n",
    "r=0.06\n",
    "sigma=0.2"
   ]
  },
  {
   "cell_type": "code",
   "execution_count": 4,
   "metadata": {},
   "outputs": [],
   "source": [
    "def simulate_tree(M):\n",
    "    dt=T/M\n",
    "    u=math.exp(sigma*math.sqrt(dt))\n",
    "    d=1/u\n",
    "    S=np.zeros((M+1,M+1))\n",
    "    S[0,0]=S0\n",
    "    z=1\n",
    "    for t in range(1,M+1):\n",
    "        for i in range(z):\n",
    "            S[i,t]=S[i,t-1]*u\n",
    "            S[i+1,t]=S[i,t-1]*d\n",
    "        z+=1\n",
    "    return S"
   ]
  },
  {
   "cell_type": "code",
   "execution_count": 5,
   "metadata": {},
   "outputs": [],
   "source": [
    "np.set_printoptions(formatter={'float':\n",
    "                               lambda x: '%6.2f' %x })\n",
    "#formatter, prints the matrix in orderly fashion, \n",
    "#in this case each element is printed in float on 6.2f s(up to two decimals,for 6 spaces)"
   ]
  },
  {
   "cell_type": "code",
   "execution_count": 6,
   "metadata": {},
   "outputs": [
    {
     "data": {
      "text/plain": [
       "array([[ 36.00,  39.79,  43.97,  48.59,  53.71],\n",
       "       [  0.00,  32.57,  36.00,  39.79,  43.97],\n",
       "       [  0.00,   0.00,  29.47,  32.57,  36.00],\n",
       "       [  0.00,   0.00,   0.00,  26.67,  29.47],\n",
       "       [  0.00,   0.00,   0.00,   0.00,  24.13]])"
      ]
     },
     "execution_count": 6,
     "metadata": {},
     "output_type": "execute_result"
    }
   ],
   "source": [
    "simulate_tree(4)"
   ]
  },
  {
   "cell_type": "code",
   "execution_count": 7,
   "metadata": {},
   "outputs": [
    {
     "name": "stdout",
     "output_type": "stream",
     "text": [
      "CPU times: user 138 ms, sys: 5.85 ms, total: 144 ms\n",
      "Wall time: 156 ms\n"
     ]
    },
    {
     "data": {
      "text/plain": [
       "array([[ 36.00,  36.32,  36.65, ..., 3095.69, 3123.50, 3151.57],\n",
       "       [  0.00,  35.68,  36.00, ..., 3040.81, 3068.13, 3095.69],\n",
       "       [  0.00,   0.00,  35.36, ..., 2986.89, 3013.73, 3040.81],\n",
       "       ...,\n",
       "       [  0.00,   0.00,   0.00, ...,   0.42,   0.42,   0.43],\n",
       "       [  0.00,   0.00,   0.00, ...,   0.00,   0.41,   0.42],\n",
       "       [  0.00,   0.00,   0.00, ...,   0.00,   0.00,   0.41]])"
      ]
     },
     "execution_count": 7,
     "metadata": {},
     "output_type": "execute_result"
    }
   ],
   "source": [
    "%time simulate_tree(500)"
   ]
  },
  {
   "cell_type": "markdown",
   "metadata": {},
   "source": [
    "次はnumpyをしっかり使ってみる"
   ]
  },
  {
   "cell_type": "code",
   "execution_count": 8,
   "metadata": {},
   "outputs": [],
   "source": [
    "M=4"
   ]
  },
  {
   "cell_type": "code",
   "execution_count": 9,
   "metadata": {},
   "outputs": [
    {
     "data": {
      "text/plain": [
       "array([[0, 1, 2, 3, 4],\n",
       "       [0, 1, 2, 3, 4],\n",
       "       [0, 1, 2, 3, 4],\n",
       "       [0, 1, 2, 3, 4],\n",
       "       [0, 1, 2, 3, 4]])"
      ]
     },
     "execution_count": 9,
     "metadata": {},
     "output_type": "execute_result"
    }
   ],
   "source": [
    "up=np.arange(M+1)\n",
    "up=np.resize(up,(M+1,M+1))\n",
    "up"
   ]
  },
  {
   "cell_type": "code",
   "execution_count": 10,
   "metadata": {},
   "outputs": [
    {
     "data": {
      "text/plain": [
       "array([[0, 0, 0, 0, 0],\n",
       "       [2, 2, 2, 2, 2],\n",
       "       [4, 4, 4, 4, 4],\n",
       "       [6, 6, 6, 6, 6],\n",
       "       [8, 8, 8, 8, 8]])"
      ]
     },
     "execution_count": 10,
     "metadata": {},
     "output_type": "execute_result"
    }
   ],
   "source": [
    "down=up.T*2\n",
    "down"
   ]
  },
  {
   "cell_type": "code",
   "execution_count": 11,
   "metadata": {},
   "outputs": [
    {
     "data": {
      "text/plain": [
       "array([[ 0,  1,  2,  3,  4],\n",
       "       [-2, -1,  0,  1,  2],\n",
       "       [-4, -3, -2, -1,  0],\n",
       "       [-6, -5, -4, -3, -2],\n",
       "       [-8, -7, -6, -5, -4]])"
      ]
     },
     "execution_count": 11,
     "metadata": {},
     "output_type": "execute_result"
    }
   ],
   "source": [
    "up-down"
   ]
  },
  {
   "cell_type": "code",
   "execution_count": 12,
   "metadata": {},
   "outputs": [],
   "source": [
    "dt=T/M"
   ]
  },
  {
   "cell_type": "code",
   "execution_count": 13,
   "metadata": {},
   "outputs": [
    {
     "data": {
      "text/plain": [
       "array([[ 36.00,  39.79,  43.97,  48.59,  53.71],\n",
       "       [ 29.47,  32.57,  36.00,  39.79,  43.97],\n",
       "       [ 24.13,  26.67,  29.47,  32.57,  36.00],\n",
       "       [ 19.76,  21.84,  24.13,  26.67,  29.47],\n",
       "       [ 16.18,  17.88,  19.76,  21.84,  24.13]])"
      ]
     },
     "execution_count": 13,
     "metadata": {},
     "output_type": "execute_result"
    }
   ],
   "source": [
    "S0*np.exp(sigma*math.sqrt(dt)*(up-down))"
   ]
  },
  {
   "cell_type": "code",
   "execution_count": 14,
   "metadata": {},
   "outputs": [],
   "source": [
    "def simulate_tree_np(M):\n",
    "    dt=T/M\n",
    "    up=np.arange(M+1)\n",
    "    up=np.resize(up,(M+1,M+1))\n",
    "    down=up.transpose()*2\n",
    "    S =S0*np.exp(sigma*math.sqrt(dt)*(up - down))\n",
    "    return S"
   ]
  },
  {
   "cell_type": "code",
   "execution_count": 15,
   "metadata": {},
   "outputs": [
    {
     "data": {
      "text/plain": [
       "array([[ 36.00,  39.79,  43.97,  48.59,  53.71],\n",
       "       [ 29.47,  32.57,  36.00,  39.79,  43.97],\n",
       "       [ 24.13,  26.67,  29.47,  32.57,  36.00],\n",
       "       [ 19.76,  21.84,  24.13,  26.67,  29.47],\n",
       "       [ 16.18,  17.88,  19.76,  21.84,  24.13]])"
      ]
     },
     "execution_count": 15,
     "metadata": {},
     "output_type": "execute_result"
    }
   ],
   "source": [
    "simulate_tree_np(4)"
   ]
  },
  {
   "cell_type": "code",
   "execution_count": 16,
   "metadata": {},
   "outputs": [
    {
     "name": "stdout",
     "output_type": "stream",
     "text": [
      "CPU times: user 9.33 ms, sys: 5.31 ms, total: 14.6 ms\n",
      "Wall time: 13.7 ms\n"
     ]
    },
    {
     "data": {
      "text/plain": [
       "array([[ 36.00,  36.32,  36.65, ..., 3095.69, 3123.50, 3151.57],\n",
       "       [ 35.36,  35.68,  36.00, ..., 3040.81, 3068.13, 3095.69],\n",
       "       [ 34.73,  35.05,  35.36, ..., 2986.89, 3013.73, 3040.81],\n",
       "       ...,\n",
       "       [  0.00,   0.00,   0.00, ...,   0.42,   0.42,   0.43],\n",
       "       [  0.00,   0.00,   0.00, ...,   0.41,   0.41,   0.42],\n",
       "       [  0.00,   0.00,   0.00, ...,   0.40,   0.41,   0.41]])"
      ]
     },
     "execution_count": 16,
     "metadata": {},
     "output_type": "execute_result"
    }
   ],
   "source": [
    "%time simulate_tree_np(500)"
   ]
  },
  {
   "cell_type": "markdown",
   "metadata": {},
   "source": [
    "cf)pythonのみの場合\n",
    "CPU times: user 116 ms, sys: 2.95 ms, total: 118 ms\n",
    "Wall time: 118 ms"
   ]
  },
  {
   "cell_type": "markdown",
   "metadata": {},
   "source": [
    "次はNumbaで"
   ]
  },
  {
   "cell_type": "code",
   "execution_count": 17,
   "metadata": {},
   "outputs": [],
   "source": [
    "import numba"
   ]
  },
  {
   "cell_type": "code",
   "execution_count": 18,
   "metadata": {},
   "outputs": [],
   "source": [
    "simulate_tree_nb=numba.jit(simulate_tree)"
   ]
  },
  {
   "cell_type": "code",
   "execution_count": 19,
   "metadata": {},
   "outputs": [
    {
     "data": {
      "text/plain": [
       "array([[ 36.00,  39.79,  43.97,  48.59,  53.71],\n",
       "       [  0.00,  32.57,  36.00,  39.79,  43.97],\n",
       "       [  0.00,   0.00,  29.47,  32.57,  36.00],\n",
       "       [  0.00,   0.00,   0.00,  26.67,  29.47],\n",
       "       [  0.00,   0.00,   0.00,   0.00,  24.13]])"
      ]
     },
     "execution_count": 19,
     "metadata": {},
     "output_type": "execute_result"
    }
   ],
   "source": [
    "simulate_tree_nb(4)"
   ]
  },
  {
   "cell_type": "code",
   "execution_count": 20,
   "metadata": {},
   "outputs": [
    {
     "name": "stdout",
     "output_type": "stream",
     "text": [
      "CPU times: user 482 µs, sys: 24 µs, total: 506 µs\n",
      "Wall time: 544 µs\n"
     ]
    },
    {
     "data": {
      "text/plain": [
       "array([[ 36.00,  36.32,  36.65, ..., 3095.69, 3123.50, 3151.57],\n",
       "       [  0.00,  35.68,  36.00, ..., 3040.81, 3068.13, 3095.69],\n",
       "       [  0.00,   0.00,  35.36, ..., 2986.89, 3013.73, 3040.81],\n",
       "       ...,\n",
       "       [  0.00,   0.00,   0.00, ...,   0.42,   0.42,   0.43],\n",
       "       [  0.00,   0.00,   0.00, ...,   0.00,   0.41,   0.42],\n",
       "       [  0.00,   0.00,   0.00, ...,   0.00,   0.00,   0.41]])"
      ]
     },
     "execution_count": 20,
     "metadata": {},
     "output_type": "execute_result"
    }
   ],
   "source": [
    "%time simulate_tree_nb(500)"
   ]
  },
  {
   "cell_type": "code",
   "execution_count": 21,
   "metadata": {},
   "outputs": [
    {
     "name": "stdout",
     "output_type": "stream",
     "text": [
      "295 µs ± 29.8 µs per loop (mean ± std. dev. of 7 runs, 1000 loops each)\n"
     ]
    }
   ],
   "source": [
    "%timeit simulate_tree_nb(500)"
   ]
  },
  {
   "cell_type": "markdown",
   "metadata": {},
   "source": [
    "%time simulate_tree(500)\n",
    "CPU times: user 116 ms, sys: 2.95 ms, total: 118 ms\n",
    "Wall time: 118 ms\n",
    "\n",
    "%time simulate_tree_np(500)\n",
    "CPU times: user 15.6 ms, sys: 9.59 ms, total: 25.2 ms\n",
    "Wall time: 31.3 ms\n",
    "\n",
    "%time simulate_tree_nb(500)\n",
    "CPU times: user 498 µs, sys: 7 µs, total: 505 µs\n",
    "Wall time: 735 µs\n",
    " →すごい！"
   ]
  },
  {
   "cell_type": "markdown",
   "metadata": {},
   "source": [
    "cythonを考えてみよう"
   ]
  },
  {
   "cell_type": "code",
   "execution_count": 22,
   "metadata": {},
   "outputs": [],
   "source": [
    "%load_ext Cython"
   ]
  },
  {
   "cell_type": "code",
   "execution_count": 23,
   "metadata": {},
   "outputs": [],
   "source": [
    "%reload_ext Cython"
   ]
  },
  {
   "cell_type": "code",
   "execution_count": 57,
   "metadata": {},
   "outputs": [],
   "source": [
    "%%cython \n",
    "import numpy as np\n",
    "cimport cython\n",
    "from libc.math cimport exp, sqrt\n",
    "cdef float S0=36.\n",
    "cdef float T=1.0\n",
    "cdef float r=0.06\n",
    "cdef float sigma=0.2\n",
    "def simulate_tree_cy(int M):\n",
    "    cdef int z, t, i\n",
    "    cdef float dt, u, d,\n",
    "    cdef float[:,:] S=np.zeros((M+1,M+1),\n",
    "                               dtype=np.float32)\n",
    "    dt=T/M\n",
    "    u=exp(sigma*sqrt(dt))\n",
    "    d=1/u\n",
    "    S[0,0]=S0\n",
    "    z=1\n",
    "    for t in range(1,M+1):\n",
    "        for i in range(z):\n",
    "            S[i,t]=S[i,t-1]*u\n",
    "            S[i+1,t]=S[i,t-1]*d\n",
    "        z+=1\n",
    "    return np.array(S)"
   ]
  },
  {
   "cell_type": "code",
   "execution_count": 58,
   "metadata": {
    "scrolled": true
   },
   "outputs": [
    {
     "data": {
      "text/plain": [
       "array([[ 36.00,  39.79,  43.97,  48.59,  53.71],\n",
       "       [  0.00,  32.57,  36.00,  39.79,  43.97],\n",
       "       [  0.00,   0.00,  29.47,  32.57,  36.00],\n",
       "       [  0.00,   0.00,   0.00,  26.67,  29.47],\n",
       "       [  0.00,   0.00,   0.00,   0.00,  24.13]], dtype=float32)"
      ]
     },
     "execution_count": 58,
     "metadata": {},
     "output_type": "execute_result"
    }
   ],
   "source": [
    "simulate_tree_cy(4)"
   ]
  },
  {
   "cell_type": "code",
   "execution_count": 59,
   "metadata": {
    "scrolled": true
   },
   "outputs": [
    {
     "name": "stdout",
     "output_type": "stream",
     "text": [
      "CPU times: user 484 µs, sys: 88 µs, total: 572 µs\n",
      "Wall time: 409 µs\n"
     ]
    },
    {
     "data": {
      "text/plain": [
       "array([[ 36.00,  36.32,  36.65, ..., 3095.77, 3123.59, 3151.65],\n",
       "       [  0.00,  35.68,  36.00, ..., 3040.89, 3068.21, 3095.77],\n",
       "       [  0.00,   0.00,  35.36, ..., 2986.97, 3013.81, 3040.89],\n",
       "       ...,\n",
       "       [  0.00,   0.00,   0.00, ...,   0.42,   0.42,   0.43],\n",
       "       [  0.00,   0.00,   0.00, ...,   0.00,   0.41,   0.42],\n",
       "       [  0.00,   0.00,   0.00, ...,   0.00,   0.00,   0.41]],\n",
       "      dtype=float32)"
      ]
     },
     "execution_count": 59,
     "metadata": {},
     "output_type": "execute_result"
    }
   ],
   "source": [
    "%time simulate_tree_cy(500)"
   ]
  },
  {
   "cell_type": "code",
   "execution_count": 60,
   "metadata": {},
   "outputs": [
    {
     "name": "stdout",
     "output_type": "stream",
     "text": [
      "234 µs ± 21.6 µs per loop (mean ± std. dev. of 7 runs, 1000 loops each)\n"
     ]
    }
   ],
   "source": [
    "%timeit S=simulate_tree_cy(500)"
   ]
  },
  {
   "cell_type": "markdown",
   "metadata": {},
   "source": [
    "monte carlo simulation"
   ]
  },
  {
   "cell_type": "markdown",
   "metadata": {},
   "source": [
    "python版から"
   ]
  },
  {
   "cell_type": "code",
   "execution_count": 61,
   "metadata": {},
   "outputs": [],
   "source": [
    "M=100#（time horizon）=1を100に分割(discrete setup)\n",
    "I=50000 #試行回数を50000回に"
   ]
  },
  {
   "cell_type": "code",
   "execution_count": 62,
   "metadata": {},
   "outputs": [],
   "source": [
    "def mcs_simulation_py(p):\n",
    "    (M, I)=p#pは行列の形で入力する必要がある\n",
    "    dt=T/M\n",
    "    S=np.zeros((M+1,I))\n",
    "    S[0]=S0\n",
    "    rn=np.random.standard_normal(S.shape)  \n",
    "    for t in range(1,M+1):  \n",
    "        for i in range(I):  \n",
    "            S[t,i]= S[t-1,i] * math.exp((r-sigma ** 2/2)*dt+\n",
    "                                         sigma*math.sqrt(dt)*rn[t,i])\n",
    "    return S"
   ]
  },
  {
   "cell_type": "code",
   "execution_count": 63,
   "metadata": {},
   "outputs": [
    {
     "data": {
      "text/plain": [
       "array([[ 36.00,  36.00,  36.00,  36.00,  36.00],\n",
       "       [ 37.58,  35.17,  39.31,  35.72,  36.91],\n",
       "       [ 40.52,  27.15,  43.17,  34.03,  39.21],\n",
       "       [ 42.08,  31.72,  36.59,  37.01,  39.10],\n",
       "       [ 35.39,  31.92,  39.94,  33.38,  45.09]])"
      ]
     },
     "execution_count": 63,
     "metadata": {},
     "output_type": "execute_result"
    }
   ],
   "source": [
    "mcs_simulation_py((4,5)) "
   ]
  },
  {
   "cell_type": "code",
   "execution_count": 64,
   "metadata": {},
   "outputs": [
    {
     "name": "stdout",
     "output_type": "stream",
     "text": [
      "CPU times: user 6.62 s, sys: 22.4 ms, total: 6.64 s\n",
      "Wall time: 6.67 s\n"
     ]
    }
   ],
   "source": [
    "%time S=mcs_simulation_py((M, I)) "
   ]
  },
  {
   "cell_type": "code",
   "execution_count": 65,
   "metadata": {},
   "outputs": [
    {
     "name": "stdout",
     "output_type": "stream",
     "text": [
      "CPU times: user 8.26 s, sys: 81 ms, total: 8.35 s\n",
      "Wall time: 8.99 s\n"
     ]
    }
   ],
   "source": [
    "%time A=mcs_simulation_py((M, I)) "
   ]
  },
  {
   "cell_type": "code",
   "execution_count": 66,
   "metadata": {},
   "outputs": [
    {
     "data": {
      "text/plain": [
       "38.24430869001903"
      ]
     },
     "execution_count": 66,
     "metadata": {},
     "output_type": "execute_result"
    }
   ],
   "source": [
    "S[-1].mean()#terminal t=1における各パスでの株価の平均をとる"
   ]
  },
  {
   "cell_type": "code",
   "execution_count": 71,
   "metadata": {},
   "outputs": [
    {
     "data": {
      "text/plain": [
       "38.22611567563295"
      ]
     },
     "execution_count": 71,
     "metadata": {},
     "output_type": "execute_result"
    }
   ],
   "source": [
    "S0*math.exp(r*T)#black-scholesに従う場合のterminalでの価格　理論値"
   ]
  },
  {
   "cell_type": "code",
   "execution_count": 72,
   "metadata": {},
   "outputs": [],
   "source": [
    "K=40.#strike priceを40に設定して"
   ]
  },
  {
   "cell_type": "code",
   "execution_count": 73,
   "metadata": {},
   "outputs": [],
   "source": [
    "C0=math.exp(-r*T)*np.maximum(K-S[-1],0).mean()#評価式"
   ]
  },
  {
   "cell_type": "code",
   "execution_count": 74,
   "metadata": {},
   "outputs": [
    {
     "data": {
      "text/plain": [
       "3.821123874266269"
      ]
     },
     "execution_count": 74,
     "metadata": {},
     "output_type": "execute_result"
    }
   ],
   "source": [
    "C0"
   ]
  },
  {
   "cell_type": "markdown",
   "metadata": {},
   "source": [
    "次はnumpy仕様"
   ]
  },
  {
   "cell_type": "code",
   "execution_count": 75,
   "metadata": {},
   "outputs": [],
   "source": [
    "def mcs_simulation_np(p):\n",
    "    (M,I)=p\n",
    "    dt=T/M\n",
    "    S=np.zeros((M+1,I))\n",
    "    S[0]=S0\n",
    "    rn=np.random.standard_normal(S.shape)\n",
    "    for t in range(1,M+1):\n",
    "        S[t]=S[t-1]*np.exp((r-sigma **2/2)*dt+\n",
    "                                         sigma*math.sqrt(dt)*rn[t])#さっきとは違い一度に行ごと扱うことができる\n",
    "    return S"
   ]
  },
  {
   "cell_type": "code",
   "execution_count": 76,
   "metadata": {},
   "outputs": [
    {
     "data": {
      "text/plain": [
       "array([[ 36.00,  36.00,  36.00,  36.00,  36.00,  36.00],\n",
       "       [ 38.62,  33.03,  35.27,  35.21,  40.02,  34.54],\n",
       "       [ 39.79,  33.93,  34.80,  40.30,  38.36,  33.44],\n",
       "       [ 47.37,  34.04,  31.72,  45.56,  41.51,  34.62],\n",
       "       [ 42.21,  39.03,  35.81,  39.81,  42.86,  37.66],\n",
       "       [ 43.23,  40.31,  41.07,  45.54,  37.77,  37.10]])"
      ]
     },
     "execution_count": 76,
     "metadata": {},
     "output_type": "execute_result"
    }
   ],
   "source": [
    "mcs_simulation_np((5,6))"
   ]
  },
  {
   "cell_type": "code",
   "execution_count": 81,
   "metadata": {},
   "outputs": [
    {
     "name": "stdout",
     "output_type": "stream",
     "text": [
      "CPU times: user 208 ms, sys: 8.15 ms, total: 216 ms\n",
      "Wall time: 187 ms\n"
     ]
    }
   ],
   "source": [
    "%time S=mcs_simulation_np((M,I))"
   ]
  },
  {
   "cell_type": "markdown",
   "metadata": {},
   "source": [
    "%time S = mcs_simulation_py((M, I))\n",
    "CPU times: user 5.67 s, sys: 57.4 ms, total: 5.72 s\n",
    "Wall time: 5.77 s\n",
    "→すごい"
   ]
  },
  {
   "cell_type": "code",
   "execution_count": 82,
   "metadata": {},
   "outputs": [
    {
     "data": {
      "text/plain": [
       "38.210591295364665"
      ]
     },
     "execution_count": 82,
     "metadata": {},
     "output_type": "execute_result"
    }
   ],
   "source": [
    "S[-1].mean()"
   ]
  },
  {
   "cell_type": "code",
   "execution_count": 83,
   "metadata": {},
   "outputs": [
    {
     "name": "stdout",
     "output_type": "stream",
     "text": [
      "199 ms ± 13.9 ms per loop (mean ± std. dev. of 7 runs, 10 loops each)\n"
     ]
    }
   ],
   "source": [
    "%timeit S=mcs_simulation_np((M,I))"
   ]
  },
  {
   "cell_type": "markdown",
   "metadata": {},
   "source": [
    "Numbaを使った場合"
   ]
  },
  {
   "cell_type": "code",
   "execution_count": 84,
   "metadata": {},
   "outputs": [],
   "source": [
    "mcs_simulation_nb=numba.jit(mcs_simulation_py)"
   ]
  },
  {
   "cell_type": "code",
   "execution_count": 85,
   "metadata": {},
   "outputs": [
    {
     "name": "stdout",
     "output_type": "stream",
     "text": [
      "CPU times: user 524 ms, sys: 13.9 ms, total: 538 ms\n",
      "Wall time: 411 ms\n"
     ]
    }
   ],
   "source": [
    "%time S=mcs_simulation_nb((M,I))"
   ]
  },
  {
   "cell_type": "code",
   "execution_count": 86,
   "metadata": {},
   "outputs": [
    {
     "name": "stdout",
     "output_type": "stream",
     "text": [
      "CPU times: user 196 ms, sys: 6.74 ms, total: 203 ms\n",
      "Wall time: 204 ms\n"
     ]
    }
   ],
   "source": [
    "%time S=mcs_simulation_nb((M,I))"
   ]
  },
  {
   "cell_type": "code",
   "execution_count": 87,
   "metadata": {},
   "outputs": [
    {
     "data": {
      "text/plain": [
       "38.24100315363438"
      ]
     },
     "execution_count": 87,
     "metadata": {},
     "output_type": "execute_result"
    }
   ],
   "source": [
    "S[-1].mean()"
   ]
  },
  {
   "cell_type": "code",
   "execution_count": 88,
   "metadata": {},
   "outputs": [],
   "source": [
    "C0=math.exp(-r*T)*np.maximum(K-S[-1],0).mean()"
   ]
  },
  {
   "cell_type": "code",
   "execution_count": 89,
   "metadata": {},
   "outputs": [
    {
     "data": {
      "text/plain": [
       "3.82484287214865"
      ]
     },
     "execution_count": 89,
     "metadata": {},
     "output_type": "execute_result"
    }
   ],
   "source": [
    "C0"
   ]
  },
  {
   "cell_type": "code",
   "execution_count": 90,
   "metadata": {},
   "outputs": [
    {
     "name": "stdout",
     "output_type": "stream",
     "text": [
      "191 ms ± 7.62 ms per loop (mean ± std. dev. of 7 runs, 10 loops each)\n"
     ]
    }
   ],
   "source": [
    "%timeit S= mcs_simulation_nb((M,I))"
   ]
  },
  {
   "cell_type": "markdown",
   "metadata": {},
   "source": [
    "%time S = mcs_simulation_py((M, I))\n",
    "CPU times: user 5.67 s, sys: 57.4 ms, total: 5.72 s \n",
    "Wall time: 5.77 s \n",
    "\n",
    "%time S=mcs_simulation_np((M,I))\n",
    "CPU times: user 219 ms, sys: 29.8 ms, total: 249 ms\n",
    "Wall time: 224 ms\n",
    "→もっとすごい"
   ]
  },
  {
   "cell_type": "markdown",
   "metadata": {},
   "source": [
    "今度はCythonで"
   ]
  },
  {
   "cell_type": "code",
   "execution_count": 104,
   "metadata": {},
   "outputs": [],
   "source": [
    "%%cython\n",
    "import numpy as np\n",
    "cimport numpy as np\n",
    "cimport cython\n",
    "from libc.math cimport exp, sqrt\n",
    "cdef float S0 = 36.\n",
    "cdef float T = 1.0\n",
    "cdef float r = 0.06\n",
    "cdef float sigma = 0.2\n",
    "@cython.boundscheck(False)#気楽に計算してもらうようにcythonに命令する（高速化のためか）\n",
    "@cython.wraparound(False)#ベクトルを-表記で逆から参照する機能を無効化（高速化のためか、つかわないし）\n",
    "def mcs_simulation_cy(p):\n",
    "    cdef int M, I\n",
    "    M, I = p\n",
    "    cdef int t, i\n",
    "    cdef float dt = T / M\n",
    "    cdef double[:, :] S = np.zeros((M + 1, I))\n",
    "    cdef double[:, :] rn = np.random.standard_normal((M + 1, I))\n",
    "    S[0] = S0\n",
    "    for t in range(1, M + 1):\n",
    "        for i in range(I):\n",
    "            S[t, i] = S[t-1, i] * exp((r - sigma ** 2 / 2) * dt +\n",
    "                                                   sigma * sqrt(dt) * rn[t, i])\n",
    "    return np.array(S)"
   ]
  },
  {
   "cell_type": "code",
   "execution_count": 105,
   "metadata": {},
   "outputs": [
    {
     "name": "stdout",
     "output_type": "stream",
     "text": [
      "CPU times: user 224 ms, sys: 43.9 ms, total: 268 ms\n",
      "Wall time: 249 ms\n"
     ]
    }
   ],
   "source": [
    "%time s=mcs_simulation_cy((M,I))"
   ]
  },
  {
   "cell_type": "code",
   "execution_count": 107,
   "metadata": {},
   "outputs": [
    {
     "data": {
      "text/plain": [
       "38.20938953558063"
      ]
     },
     "execution_count": 107,
     "metadata": {},
     "output_type": "execute_result"
    }
   ],
   "source": [
    "s[-1].mean()"
   ]
  },
  {
   "cell_type": "code",
   "execution_count": 94,
   "metadata": {},
   "outputs": [
    {
     "name": "stdout",
     "output_type": "stream",
     "text": [
      "210 ms ± 15.3 ms per loop (mean ± std. dev. of 7 runs, 1 loop each)\n"
     ]
    }
   ],
   "source": [
    "%timeit S=mcs_simulation_cy((M,I))"
   ]
  },
  {
   "cell_type": "markdown",
   "metadata": {},
   "source": [
    "最後はmultiprossesing"
   ]
  },
  {
   "cell_type": "code",
   "execution_count": 112,
   "metadata": {},
   "outputs": [],
   "source": [
    "import multiprocessing as mp"
   ]
  },
  {
   "cell_type": "code",
   "execution_count": 113,
   "metadata": {},
   "outputs": [],
   "source": [
    "pool = mp.Pool(processes=4)"
   ]
  },
  {
   "cell_type": "code",
   "execution_count": 120,
   "metadata": {},
   "outputs": [],
   "source": [
    "p=20"
   ]
  },
  {
   "cell_type": "code",
   "execution_count": 141,
   "metadata": {},
   "outputs": [
    {
     "data": {
      "text/plain": [
       "array([[ 36.00,  36.00,  36.00,  36.00],\n",
       "       [ 39.96,  37.81,  43.99,  36.63],\n",
       "       [ 50.70,  30.21,  55.85,  46.33],\n",
       "       [ 61.42,  25.26,  63.23,  40.30]])"
      ]
     },
     "execution_count": 141,
     "metadata": {},
     "output_type": "execute_result"
    }
   ],
   "source": [
    "np.hstack(pool.map(mcs_simulation_np, 2*[(3, int(4/2))]))"
   ]
  },
  {
   "cell_type": "code",
   "execution_count": 119,
   "metadata": {},
   "outputs": [
    {
     "name": "stdout",
     "output_type": "stream",
     "text": [
      "223 ms ± 11.5 ms per loop (mean ± std. dev. of 7 runs, 1 loop each)\n"
     ]
    }
   ],
   "source": [
    "%timeit S=np.hstack(pool.map(mcs_simulation_np, p*[(M, int(I/p))]))\n",
    "#map関数,mcs_simulation_npにp*[(M, int(I/p))]を突っ込む　　のをpoolして　hstack\n",
    "#Iは試行回数、(I/p)列分をp回行うことを4processで分割する\n",
    "#ex)10000回やりたいときは （10000/20)=50の列を20回行うことを4分割して行う"
   ]
  },
  {
   "cell_type": "code",
   "execution_count": 116,
   "metadata": {},
   "outputs": [
    {
     "name": "stdout",
     "output_type": "stream",
     "text": [
      "237 ms ± 22.3 ms per loop (mean ± std. dev. of 7 runs, 1 loop each)\n"
     ]
    }
   ],
   "source": [
    "%timeit S=np.hstack(pool.map(mcs_simulation_nb, p*[(M, int(I/p))]))"
   ]
  },
  {
   "cell_type": "code",
   "execution_count": 117,
   "metadata": {},
   "outputs": [
    {
     "name": "stdout",
     "output_type": "stream",
     "text": [
      "225 ms ± 11.5 ms per loop (mean ± std. dev. of 7 runs, 1 loop each)\n"
     ]
    }
   ],
   "source": [
    "%timeit S=np.hstack(pool.map(mcs_simulation_cy, p*[(M, int(I/p))]))"
   ]
  },
  {
   "cell_type": "markdown",
   "metadata": {},
   "source": [
    "おわり"
   ]
  },
  {
   "cell_type": "code",
   "execution_count": null,
   "metadata": {},
   "outputs": [],
   "source": []
  }
 ],
 "metadata": {
  "kernelspec": {
   "display_name": "Python 3",
   "language": "python",
   "name": "python3"
  },
  "language_info": {
   "codemirror_mode": {
    "name": "ipython",
    "version": 3
   },
   "file_extension": ".py",
   "mimetype": "text/x-python",
   "name": "python",
   "nbconvert_exporter": "python",
   "pygments_lexer": "ipython3",
   "version": "3.7.3"
  }
 },
 "nbformat": 4,
 "nbformat_minor": 2
}
