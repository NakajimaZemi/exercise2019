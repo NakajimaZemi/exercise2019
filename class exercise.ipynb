{
 "cells": [
  {
   "cell_type": "code",
   "execution_count": 49,
   "metadata": {},
   "outputs": [],
   "source": [
    "class sum_zero():\n",
    "    def twosum(self,nums):\n",
    "        self.nums = sorted(nums) #sorted(nums)で数のリストを昇順にしている\n",
    "        result2 = []\n",
    "        a = 0\n",
    "        while a < len(nums) - 1:\n",
    "            b = len(nums) -1\n",
    "            while a < b:\n",
    "                if nums[a] + nums[b] < 0:\n",
    "                    a += 1\n",
    "                elif nums[a] + nums[b] >0:\n",
    "                    b -= 1\n",
    "                else:\n",
    "                    result2.append([nums[a] , nums[b]])\n",
    "                    a = a + 1 \n",
    "                    b = b - 1\n",
    "                    while a < b and nums[a] == nums[a-1]:\n",
    "                        a += 1\n",
    "                    while a < b and nums[b] == nums[b+1]:\n",
    "                        b -= 1\n",
    "            a += 1\n",
    "    \n",
    "        return result2\n",
    "    \n",
    "    def threesum(self, nums):\n",
    "        self.nums = sorted(nums) #sorted(nums)で数のリストを昇順にしている\n",
    "        result3 = []\n",
    "        i = 0\n",
    "        while i < len(nums) - 2: #i番目より右側に数が2つ以上ある（j番目とk番目）ことを保障\n",
    "            j = i + 1\n",
    "            k = len(nums) - 1\n",
    "            while j < k:\n",
    "                if nums[i] + nums[j] + nums[k] < 0: #もしi番目＋j番目＋k番目が０より小さい時、jに１を足す\n",
    "                    j += 1\n",
    "                elif nums[i] + nums[j] + nums[k] > 0: #もしi番目＋j番目＋k番目が０より大きい時、kから１を引く\n",
    "                    k -= 1\n",
    "                else:\n",
    "                    result3.append([nums[i], nums[j], nums[k]]) #どちらでもない、つまりi番目＋j番目＋k番目が０のとき、resultにそのリストを加える\n",
    "                    j, k = j + 1, k - 1 #小さい方と大きい方の両側から幅を狭めていくイメージ\n",
    "                    while j < k and nums[j] == nums[j - 1]: #j番目の数が一つ左側の数（j-1番目の数）と同じ時は、jに１を足す。同じ数で何度も比べるのは無駄だから。\n",
    "                        j += 1\n",
    "                    while j < k and nums[k] == nums[k + 1]: #同様に、k番目の数が一つ右側の数（k+1番目の数）と同じ時は、kから１を引く。同じ数で何度も比べるのは無駄だから。\n",
    "                        k -= 1\n",
    "            i += 1\n",
    "            while i < len(nums) - 2 and nums[i] == nums[i - 1]: #i番目より右側に数が2つ以上あり（j番目とk番目）、i番目の数とi-1番目の数がおなじ時は、iに１を足す。\n",
    "                i += 1\n",
    "        return result3"
   ]
  },
  {
   "cell_type": "code",
   "execution_count": 54,
   "metadata": {},
   "outputs": [
    {
     "data": {
      "text/plain": [
       "[[-12, 2, 10], [-12, 4, 8], [-10, 2, 8], [-7, -3, 10]]"
      ]
     },
     "execution_count": 54,
     "metadata": {},
     "output_type": "execute_result"
    }
   ],
   "source": [
    "sum_zero().threesum([-12, -10, -7, -3, 2, 4, 8, 10])"
   ]
  },
  {
   "cell_type": "code",
   "execution_count": 52,
   "metadata": {},
   "outputs": [],
   "source": [
    "def twosum(nums):\n",
    "    nums = sorted(nums) #sorted(nums)で数のリストを昇順にしている\n",
    "    result2 = []\n",
    "    a = 0\n",
    "    while a < len(nums) - 1:\n",
    "        b = len(nums) -1\n",
    "        while a < b:\n",
    "            if nums[a] + nums[b] < 0:\n",
    "                a += 1\n",
    "            elif nums[a] + nums[b] >0:\n",
    "                b -= 1\n",
    "            else:\n",
    "                result2.append([nums[a] , nums[b]])\n",
    "                a = a + 1 \n",
    "                b = b - 1\n",
    "                while a < b and nums[a] == nums[a-1]:\n",
    "                    a += 1\n",
    "                while a < b and nums[b] == nums[b+1]:\n",
    "                    b -= 1\n",
    "        a += 1\n",
    "    \n",
    "    return result2"
   ]
  },
  {
   "cell_type": "code",
   "execution_count": 53,
   "metadata": {},
   "outputs": [
    {
     "data": {
      "text/plain": [
       "[[-10, 10], [-6, 6], [-2, 2]]"
      ]
     },
     "execution_count": 53,
     "metadata": {},
     "output_type": "execute_result"
    }
   ],
   "source": [
    "twosum([10,-10,2,-2,6,-6])"
   ]
  },
  {
   "cell_type": "code",
   "execution_count": 24,
   "metadata": {},
   "outputs": [],
   "source": [
    "def threesum(self, nums):\n",
    "        self.nums = sorted(nums) #sorted(nums)で数のリストを昇順にしている\n",
    "        result3 = []\n",
    "        i = 0\n",
    "        while i < len(nums) - 2: #i番目より右側に数が2つ以上ある（j番目とk番目）ことを保障\n",
    "            j = i + 1\n",
    "            k = len(nums) - 1\n",
    "            while j < k:\n",
    "                if nums[i] + nums[j] + nums[k] < 0: #もしi番目＋j番目＋k番目が０より小さい時、jに１を足す\n",
    "                    j += 1\n",
    "                elif nums[i] + nums[j] + nums[k] > 0: #もしi番目＋j番目＋k番目が０より大きい時、kから１を引く\n",
    "                    k -= 1\n",
    "                else:\n",
    "                    result3.append([nums[i], nums[j], nums[k]]) #どちらでもない、つまりi番目＋j番目＋k番目が０のとき、resultにそのリストを加える\n",
    "                    j, k = j + 1, k - 1 #小さい方と大きい方の両側から幅を狭めていくイメージ\n",
    "                    while j < k and nums[j] == nums[j - 1]: #j番目の数が一つ左側の数（j-1番目の数）と同じ時は、jに１を足す。同じ数で何度も比べるのは無駄だから。\n",
    "                        j += 1\n",
    "                    while j < k and nums[k] == nums[k + 1]: #同様に、k番目の数が一つ右側の数（k+1番目の数）と同じ時は、kから１を引く。同じ数で何度も比べるのは無駄だから。\n",
    "                        k -= 1\n",
    "            i += 1\n",
    "            while i < len(nums) - 2 and nums[i] == nums[i - 1]: #i番目より右側に数が2つ以上あり（j番目とk番目）、i番目の数とi-1番目の数がおなじ時は、iに１を足す。\n",
    "                i += 1\n",
    "        return result3"
   ]
  },
  {
   "cell_type": "code",
   "execution_count": null,
   "metadata": {},
   "outputs": [],
   "source": []
  },
  {
   "cell_type": "code",
   "execution_count": 69,
   "metadata": {},
   "outputs": [],
   "source": [
    "class sum_zero_test():\n",
    "    def __init__(self,nums):\n",
    "        self.nums = sorted(nums)\n",
    "        \n",
    "    def twosum(self,nums):\n",
    "        result2 = []\n",
    "        a = 0\n",
    "        while a < len(nums) - 1:\n",
    "            b = len(nums) -1\n",
    "            while a < b:\n",
    "                if nums[a] + nums[b] < 0:\n",
    "                    a += 1\n",
    "                elif nums[a] + nums[b] >0:\n",
    "                    b -= 1\n",
    "                else:\n",
    "                    result2.append([nums[a] , nums[b]])\n",
    "                    a = a + 1 \n",
    "                    b = b - 1\n",
    "                    while a < b and nums[a] == nums[a-1]:\n",
    "                        a += 1\n",
    "                    while a < b and nums[b] == nums[b+1]:\n",
    "                        b -= 1\n",
    "            a += 1\n",
    "    \n",
    "        return result2\n",
    "    \n",
    "    def threesum(self, nums):\n",
    "        self.nums = sorted(nums) #sorted(nums)で数のリストを昇順にしている\n",
    "        result3 = []\n",
    "        i = 0\n",
    "        while i < len(nums) - 2: #i番目より右側に数が2つ以上ある（j番目とk番目）ことを保障\n",
    "            j = i + 1\n",
    "            k = len(nums) - 1\n",
    "            while j < k:\n",
    "                if nums[i] + nums[j] + nums[k] < 0: #もしi番目＋j番目＋k番目が０より小さい時、jに１を足す\n",
    "                    j += 1\n",
    "                elif nums[i] + nums[j] + nums[k] > 0: #もしi番目＋j番目＋k番目が０より大きい時、kから１を引く\n",
    "                    k -= 1\n",
    "                else:\n",
    "                    result3.append([nums[i], nums[j], nums[k]]) #どちらでもない、つまりi番目＋j番目＋k番目が０のとき、resultにそのリストを加える\n",
    "                    j, k = j + 1, k - 1 #小さい方と大きい方の両側から幅を狭めていくイメージ\n",
    "                    while j < k and nums[j] == nums[j - 1]: #j番目の数が一つ左側の数（j-1番目の数）と同じ時は、jに１を足す。同じ数で何度も比べるのは無駄だから。\n",
    "                        j += 1\n",
    "                    while j < k and nums[k] == nums[k + 1]: #同様に、k番目の数が一つ右側の数（k+1番目の数）と同じ時は、kから１を引く。同じ数で何度も比べるのは無駄だから。\n",
    "                        k -= 1\n",
    "            i += 1\n",
    "            while i < len(nums) - 2 and nums[i] == nums[i - 1]: #i番目より右側に数が2つ以上あり（j番目とk番目）、i番目の数とi-1番目の数がおなじ時は、iに１を足す。\n",
    "                i += 1\n",
    "        return result3"
   ]
  },
  {
   "cell_type": "code",
   "execution_count": 70,
   "metadata": {},
   "outputs": [],
   "source": [
    "aaa = sum_zero_test([-12, -10, -7, -3, 2, 4, 8, 10])"
   ]
  },
  {
   "cell_type": "code",
   "execution_count": 71,
   "metadata": {},
   "outputs": [
    {
     "data": {
      "text/plain": [
       "[[-12, 2, 10], [-10, 2, 8], [-7, -3, 10]]"
      ]
     },
     "execution_count": 71,
     "metadata": {},
     "output_type": "execute_result"
    }
   ],
   "source": [
    "aaa.threesum([-12, -10, -7, -3, 2, 7, 8, 10])"
   ]
  },
  {
   "cell_type": "code",
   "execution_count": null,
   "metadata": {},
   "outputs": [],
   "source": []
  },
  {
   "cell_type": "code",
   "execution_count": null,
   "metadata": {},
   "outputs": [],
   "source": []
  }
 ],
 "metadata": {
  "kernelspec": {
   "display_name": "Python 3",
   "language": "python",
   "name": "python3"
  },
  "language_info": {
   "codemirror_mode": {
    "name": "ipython",
    "version": 3
   },
   "file_extension": ".py",
   "mimetype": "text/x-python",
   "name": "python",
   "nbconvert_exporter": "python",
   "pygments_lexer": "ipython3",
   "version": "3.6.4"
  }
 },
 "nbformat": 4,
 "nbformat_minor": 2
}
