{
 "cells": [
  {
   "cell_type": "code",
   "execution_count": 2,
   "metadata": {},
   "outputs": [],
   "source": [
    "import math\n",
    "import numpy as np\n",
    "import numpy.random as npr\n",
    "import pandas as pd \n",
    "import scipy.optimize as opt\n",
    "import scipy.stats as st\n",
    "from pylab import plt, mpl\n",
    "plt.style.use('seaborn')\n",
    "mpl.rcParams['font.family'] = 'serif'\n",
    "%matplotlib inline"
   ]
  },
  {
   "cell_type": "code",
   "execution_count": 3,
   "metadata": {},
   "outputs": [],
   "source": [
    "#ベルヌーイ分布の成功確率の事後統計量\n",
    "def bernoulli_stats(data, a0, b0, prob):\n",
    "    n = data.size\n",
    "    sum_data = data.sum()\n",
    "    a = sum_data + a0\n",
    "    b = n - sum_data + b0\n",
    "    mean_pi = st.beta.mean(a, b)\n",
    "    median_pi = st.beta.median(a, b)\n",
    "    mode_pi = (a - 1.0) / (a + b - 2.0)\n",
    "    sd_pi = st.beta.std(a,b)\n",
    "    ci_pi = st.beta.interval(prob, a, b)\n",
    "    hpdi_pi = beta_hpdi(ci_pi, a, b, prob)\n",
    "    stats = np.hstack((mean_pi, median_pi, mode_pi, sd_pi, ci_pi, hpdi_pi))\n",
    "    stats = stats.reshape((1,8))\n",
    "    stats_string= ['mean','median','frequancy','std','trust.up','trust.down','HPD.up','HPD.up']\n",
    "    param_string=['q']\n",
    "    results = pd.DataFrame(stats, index=param_string, columns=stats_string)\n",
    "    return results, a, b\n",
    "\n",
    "\n",
    "def beta_hpdi(ci0, alpha, beta, prob):\n",
    "    def hpdi_conditions(v, a, b, p):\n",
    "        eq1 = st.beta.cdf(v[1], a, b) - st.beta.cdf(v[0], a ,b) -p\n",
    "        eq2 = st.beta.pdf(v[1], a, b) - st.beta.pdf(v[0], a, b)\n",
    "        return np.hstack((eq1, eq2))\n",
    "    return opt.root(hpdi_conditions, ci0, args=(alpha,beta,prob)).x"
   ]
  },
  {
   "cell_type": "code",
   "execution_count": 8,
   "metadata": {},
   "outputs": [
    {
     "name": "stdout",
     "output_type": "stream",
     "text": [
      "    mean  median  frequancy    std  trust.up  trust.down  HPD.up  HPD.up\n",
      "q 0.2115  0.2078     0.2000 0.0561    0.1129      0.3312  0.1065  0.3228\n"
     ]
    },
    {
     "data": {
      "image/png": "[encoded data removed]",
      "text/plain": [
       "<Figure size 432x288 with 1 Axes>"
      ]
     },
     "metadata": {},
     "output_type": "display_data"
    }
   ],
   "source": [
    "p = 0.25\n",
    "n = 50\n",
    "np.random.seed(1001)\n",
    "data = st.bernoulli.rvs(p, size=n)\n",
    "#ベルヌーイの設定\n",
    "a0 = 1.0\n",
    "b0 =1.0\n",
    "prob = 0.95\n",
    "results, a, b = bernoulli_stats(data, a0, b0, prob)\n",
    "print(results.to_string(float_format='{:,.4f}'.format))\n",
    "#パラメーター\n",
    "\n",
    "fig1 = plt.figure(num=1, facecolor='w')\n",
    "q = np.linspace(0,1,250)\n",
    "plt.plot(q, st.beta.pdf(q, a, b), 'k-', label='after_dist')\n",
    "plt.plot(q, st.beta.pdf(q, a0, b0), 'k:', label='before_dist')\n",
    "plt.xlim(0,1)\n",
    "plt.ylim(0,9)\n",
    "plt.xlabel('successprob_q')\n",
    "plt.ylabel('std')\n",
    "plt.legend(loc='best', frameon = False)\n",
    "plt.show()"
   ]
  },
  {
   "cell_type": "code",
   "execution_count": 5,
   "metadata": {},
   "outputs": [
    {
     "data": {
      "text/plain": [
       "[10.5, 40.5]"
      ]
     },
     "execution_count": 5,
     "metadata": {},
     "output_type": "execute_result"
    }
   ],
   "source": [
    "[a,b]"
   ]
  },
  {
   "cell_type": "code",
   "execution_count": null,
   "metadata": {},
   "outputs": [],
   "source": [
    "#ポアソン分布\n",
    "#λの事前分布をガンマ分布にする　αβ（１/θ）がパラメータ\n",
    "p = 0.25\n",
    "n = 50\n",
    "np.random.seed(1001)\n",
    "data = st.bernoulli.rvs(p, size=n)\n",
    "#ベルヌーイの設定\n",
    "a0 = 1.0\n",
    "b0 =1.0\n",
    "prob = 0.95\n",
    "results, a, b = bernoulli_stats(data, a0, b0, prob)\n",
    "print(results.to_string(float_format='{:,.4f}'.format))\n",
    "#パラメーター\n",
    "\n",
    "fig1 = plt.figure(num=1, facecolor='w')\n",
    "q = np.linspace(0,1,250)\n",
    "plt.plot(q, st.beta.pdf(q, a, b), 'k-', label='after_dist')\n",
    "plt.plot(q, st.beta.pdf(q, a0, b0), 'k:', label='before_dist')\n",
    "plt.xlim(0,1)\n",
    "plt.ylim(0,9)\n",
    "plt.xlabel('successprob_q')\n",
    "plt.ylabel('std')\n",
    "plt.legend(loc='best', frameon = False)\n",
    "plt.show()\n",
    "\n",
    "\n",
    "def bernoulli_stats(data, a0, b0, prob):\n",
    "    n = data.size\n",
    "    sum_data = data.sum()\n",
    "    a = sum_data + a0\n",
    "    b = n - sum_data + b0\n",
    "    mean_pi = st.beta.mean(a, b)\n",
    "    median_pi = st.beta.median(a, b)\n",
    "    mode_pi = (a - 1.0) / (a + b - 2.0)\n",
    "    sd_pi = st.beta.std(a,b)\n",
    "    ci_pi = st.beta.interval(prob, a, b)\n",
    "    hpdi_pi = beta_hpdi(ci_pi, a, b, prob)\n",
    "    stats = np.hstack((mean_pi, median_pi, mode_pi, sd_pi, ci_pi, hpdi_pi))\n",
    "    stats = stats.reshape((1,8))\n",
    "    stats_string= ['mean','median','frequancy','std','trust.up','trust.down','HPD.up','HPD.up']\n",
    "    param_string=['q']\n",
    "    results = pd.DataFrame(stats, index=param_string, columns=stats_string)\n",
    "    return results, a, b\n",
    "\n",
    "\n",
    "def beta_hpdi(ci0, alpha, beta, prob):\n",
    "    def hpdi_conditions(v, a, b, p):\n",
    "        eq1 = st.beta.cdf(v[1], a, b) - st.beta.cdf(v[0], a ,b) -p\n",
    "        eq2 = st.beta.pdf(v[1], a, b) - st.beta.pdf(v[0], a, b)\n",
    "        return np.hstack((eq1, eq2))\n",
    "    return opt.root(hpdi_conditions, ci0, args=(alpha,beta,prob)).x"
   ]
  }
 ],
 "metadata": {
  "kernelspec": {
   "display_name": "Python 3",
   "language": "python",
   "name": "python3"
  },
  "language_info": {
   "codemirror_mode": {
    "name": "ipython",
    "version": 3
   },
   "file_extension": ".py",
   "mimetype": "text/x-python",
   "name": "python",
   "nbconvert_exporter": "python",
   "pygments_lexer": "ipython3",
   "version": "3.7.3"
  }
 },
 "nbformat": 4,
 "nbformat_minor": 2
}
