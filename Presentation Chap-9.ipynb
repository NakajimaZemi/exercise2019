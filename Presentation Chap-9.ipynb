{
 "cells": [
  {
   "cell_type": "markdown",
   "metadata": {
    "scrolled": true
   },
   "source": [
    "# I/O with Pytable"
   ]
  },
  {
   "cell_type": "markdown",
   "metadata": {},
   "source": [
    "### PytableはHDF5ファイルを扱うために用います"
   ]
  },
  {
   "cell_type": "markdown",
   "metadata": {},
   "source": [
    "特徴として以下の２つが挙げられます\n",
    "- 行列を扱うのに長ける\n",
    "- numpyのような操作感!!\n",
    "- データの圧縮ができる!!"
   ]
  },
  {
   "cell_type": "code",
   "execution_count": 1,
   "metadata": {},
   "outputs": [],
   "source": [
    "import tables as tb   #PytablesはLibraryに「tables」で入っています。\n",
    "import datetime as dt\n",
    "import numpy as np\n",
    "import pandas as pd\n",
    "import matplotlib.pyplot as plt"
   ]
  },
  {
   "cell_type": "code",
   "execution_count": 2,
   "metadata": {},
   "outputs": [],
   "source": [
    "path = '/Users/nagaitakahiko/Documents/中嶋ゼミ/'"
   ]
  },
  {
   "cell_type": "code",
   "execution_count": 3,
   "metadata": {},
   "outputs": [],
   "source": [
    " filename = path + 'pytab.h5'  #h5ファイルを作る"
   ]
  },
  {
   "cell_type": "code",
   "execution_count": 4,
   "metadata": {},
   "outputs": [],
   "source": [
    "h5 = tb.open_file(filename, 'w') #wでwriteモードに"
   ]
  },
  {
   "cell_type": "code",
   "execution_count": 5,
   "metadata": {},
   "outputs": [],
   "source": [
    "row_des = {\n",
    "              'Date': tb.StringCol(26, pos=1),  \n",
    "              'No1': tb.IntCol(pos=2),  \n",
    "              'No2': tb.IntCol(pos=3),  \n",
    "              'No3': tb.Float64Col(pos=4),  \n",
    "              'No4': tb.Float64Col(pos=5)  \n",
    "              }"
   ]
  },
  {
   "cell_type": "code",
   "execution_count": 6,
   "metadata": {},
   "outputs": [],
   "source": [
    "rows = 2000000"
   ]
  },
  {
   "cell_type": "code",
   "execution_count": 7,
   "metadata": {},
   "outputs": [],
   "source": [
    "filters = tb.Filters(complevel=5)  #complevelで圧縮率が定義(0~9の間で定義)。Filterは圧縮率を定義可能"
   ]
  },
  {
   "cell_type": "code",
   "execution_count": 8,
   "metadata": {},
   "outputs": [],
   "source": [
    "tab = h5.create_table('/', 'ints_floats',  \n",
    "                                row_des,  \n",
    "                                title='Integers and Floats',  #tableの名前\n",
    "                                expectedrows=rows,  \n",
    "                                filters=filters)"
   ]
  },
  {
   "cell_type": "code",
   "execution_count": 9,
   "metadata": {},
   "outputs": [
    {
     "data": {
      "text/plain": [
       "tables.table.Table"
      ]
     },
     "execution_count": 9,
     "metadata": {},
     "output_type": "execute_result"
    }
   ],
   "source": [
    " type(tab)"
   ]
  },
  {
   "cell_type": "code",
   "execution_count": 10,
   "metadata": {},
   "outputs": [
    {
     "data": {
      "text/plain": [
       "/ints_floats (Table(0,), shuffle, zlib(5)) 'Integers and Floats'\n",
       "  description := {\n",
       "  \"Date\": StringCol(itemsize=26, shape=(), dflt=b'', pos=0),\n",
       "  \"No1\": Int32Col(shape=(), dflt=0, pos=1),\n",
       "  \"No2\": Int32Col(shape=(), dflt=0, pos=2),\n",
       "  \"No3\": Float64Col(shape=(), dflt=0.0, pos=3),\n",
       "  \"No4\": Float64Col(shape=(), dflt=0.0, pos=4)}\n",
       "  byteorder := 'little'\n",
       "  chunkshape := (2621,)"
      ]
     },
     "execution_count": 10,
     "metadata": {},
     "output_type": "execute_result"
    }
   ],
   "source": [
    "tab"
   ]
  },
  {
   "cell_type": "code",
   "execution_count": 11,
   "metadata": {},
   "outputs": [],
   "source": [
    "pointer = tab.row"
   ]
  },
  {
   "cell_type": "code",
   "execution_count": 12,
   "metadata": {},
   "outputs": [],
   "source": [
    "ran_int = np.random.randint(0, 10000, size=(rows, 2)) #「rowの数」行2列の行列であり0~10000の数"
   ]
  },
  {
   "cell_type": "code",
   "execution_count": 13,
   "metadata": {},
   "outputs": [],
   "source": [
    "ran_flo = np.random.standard_normal((rows, 2)).round(4)  #正規分布の擬似乱数"
   ]
  },
  {
   "cell_type": "code",
   "execution_count": 14,
   "metadata": {},
   "outputs": [
    {
     "name": "stdout",
     "output_type": "stream",
     "text": [
      "CPU times: user 9.41 s, sys: 82.2 ms, total: 9.49 s\n",
      "Wall time: 9.67 s\n"
     ]
    }
   ],
   "source": [
    "%%time\n",
    "          for i in range(rows):\n",
    "              pointer['Date'] = dt.datetime.now()  #Dateはここでは操作した時の時間が入る。\n",
    "              pointer['No1'] = ran_int[i, 0]  #整数値\n",
    "              pointer['No2'] = ran_int[i, 1]  \n",
    "              pointer['No3'] = ran_flo[i, 0]  #小数値\n",
    "              pointer['No4'] = ran_flo[i, 1]  \n",
    "              pointer.append()  \n",
    "tab.flush() "
   ]
  },
  {
   "cell_type": "code",
   "execution_count": 15,
   "metadata": {},
   "outputs": [
    {
     "data": {
      "text/plain": [
       "/ints_floats (Table(2000000,), shuffle, zlib(5)) 'Integers and Floats'\n",
       "  description := {\n",
       "  \"Date\": StringCol(itemsize=26, shape=(), dflt=b'', pos=0),\n",
       "  \"No1\": Int32Col(shape=(), dflt=0, pos=1),\n",
       "  \"No2\": Int32Col(shape=(), dflt=0, pos=2),\n",
       "  \"No3\": Float64Col(shape=(), dflt=0.0, pos=3),\n",
       "  \"No4\": Float64Col(shape=(), dflt=0.0, pos=4)}\n",
       "  byteorder := 'little'\n",
       "  chunkshape := (2621,)"
      ]
     },
     "execution_count": 15,
     "metadata": {},
     "output_type": "execute_result"
    }
   ],
   "source": [
    "tab  "
   ]
  },
  {
   "cell_type": "code",
   "execution_count": 16,
   "metadata": {},
   "outputs": [
    {
     "data": {
      "text/plain": [
       "array([(b'2019-06-20 10:49:08.427556', 4127, 3197, -0.6303,  1.4219),\n",
       "       (b'2019-06-20 10:49:08.427624', 1955, 9751,  0.6418, -0.3207),\n",
       "       (b'2019-06-20 10:49:08.427633', 6134, 1279, -1.9172, -1.6238)],\n",
       "      dtype=[('Date', 'S26'), ('No1', '<i4'), ('No2', '<i4'), ('No3', '<f8'), ('No4', '<f8')])"
      ]
     },
     "execution_count": 16,
     "metadata": {},
     "output_type": "execute_result"
    }
   ],
   "source": [
    "tab[:3] "
   ]
  },
  {
   "cell_type": "code",
   "execution_count": 17,
   "metadata": {},
   "outputs": [
    {
     "name": "stdout",
     "output_type": "stream",
     "text": [
      "CPU times: user 455 ms, sys: 47.8 ms, total: 502 ms\n",
      "Wall time: 503 ms\n"
     ]
    },
    {
     "data": {
      "text/plain": [
       "335.54910000000086"
      ]
     },
     "execution_count": 17,
     "metadata": {},
     "output_type": "execute_result"
    }
   ],
   "source": [
    "%time np.sum(tab[:]['No3']) #numpy同様の機能(sum)"
   ]
  },
  {
   "cell_type": "code",
   "execution_count": 18,
   "metadata": {},
   "outputs": [
    {
     "name": "stdout",
     "output_type": "stream",
     "text": [
      "CPU times: user 533 ms, sys: 29.4 ms, total: 562 ms\n",
      "Wall time: 599 ms\n"
     ]
    },
    {
     "data": {
      "image/png": "[encoded data removed]",
      "text/plain": [
       "<Figure size 720x432 with 1 Axes>"
      ]
     },
     "metadata": {
      "needs_background": "light"
     },
     "output_type": "display_data"
    }
   ],
   "source": [
    "%%time\n",
    "          plt.figure(figsize=(10, 6))\n",
    "          plt.hist(tab[:]['No3'], bins=30)"
   ]
  },
  {
   "cell_type": "markdown",
   "metadata": {},
   "source": [
    "### for文を使っているため上記の処理は比較的遅い\n",
    "### numpyを用いた処理を行うと速く処理ができる"
   ]
  },
  {
   "cell_type": "code",
   "execution_count": 19,
   "metadata": {},
   "outputs": [],
   "source": [
    "dty = np.dtype([('Date', 'S26'), ('No1', '<i4'), ('No2', '<i4'),\n",
    "                                           ('No3', '<f8'), ('No4', '<f8')])\n",
    "#データタイプを規定"
   ]
  },
  {
   "cell_type": "code",
   "execution_count": 20,
   "metadata": {},
   "outputs": [],
   "source": [
    " sarray = np.zeros(len(ran_int), dtype=dty)   #0行列"
   ]
  },
  {
   "cell_type": "code",
   "execution_count": 21,
   "metadata": {},
   "outputs": [
    {
     "data": {
      "text/plain": [
       "array([(b'', 0, 0, 0., 0.), (b'', 0, 0, 0., 0.), (b'', 0, 0, 0., 0.),\n",
       "       (b'', 0, 0, 0., 0.)],\n",
       "      dtype=[('Date', 'S26'), ('No1', '<i4'), ('No2', '<i4'), ('No3', '<f8'), ('No4', '<f8')])"
      ]
     },
     "execution_count": 21,
     "metadata": {},
     "output_type": "execute_result"
    }
   ],
   "source": [
    "sarray[:4] #一部を取り出す "
   ]
  },
  {
   "cell_type": "code",
   "execution_count": 22,
   "metadata": {},
   "outputs": [
    {
     "name": "stdout",
     "output_type": "stream",
     "text": [
      "CPU times: user 109 ms, sys: 2.2 ms, total: 111 ms\n",
      "Wall time: 111 ms\n"
     ]
    }
   ],
   "source": [
    "%%time\n",
    "          sarray['Date'] = dt.datetime.now()  \n",
    "          sarray['No1'] = ran_int[:, 0]  \n",
    "          sarray['No2'] = ran_int[:, 1]  \n",
    "          sarray['No3'] = ran_flo[:, 0]  \n",
    "          sarray['No4'] = ran_flo[:, 1]    #In[14]に比べると格段に速い　"
   ]
  },
  {
   "cell_type": "code",
   "execution_count": 23,
   "metadata": {},
   "outputs": [],
   "source": [
    "filename = path + 'pytabc.h5'\n",
    "h5c = tb.open_file(filename, 'w')\n",
    "filters = tb.Filters(complevel=5,  \n",
    "                               complib='blosc')  \n",
    "tabc = h5c.create_table('/', 'ints_floats', sarray,\n",
    "                                  title='Integers and Floats',\n",
    "                                  expectedrows=rows, filters=filters)"
   ]
  },
  {
   "cell_type": "code",
   "execution_count": 46,
   "metadata": {},
   "outputs": [],
   "source": [
    "query = '((No3 < -0.5) | (No3 > 0.5)) & ((No4 < -1) | (No4 > 1))'\n",
    "iterator = tab.where(query)    #iteratorはlistのコピーみたいなもの"
   ]
  },
  {
   "cell_type": "code",
   "execution_count": 25,
   "metadata": {},
   "outputs": [
    {
     "name": "stdout",
     "output_type": "stream",
     "text": [
      "CPU times: user 660 ms, sys: 50 ms, total: 710 ms\n",
      "Wall time: 696 ms\n"
     ]
    }
   ],
   "source": [
    "%time res = [(row['No3'], row['No4']) for row in iterator]"
   ]
  },
  {
   "cell_type": "code",
   "execution_count": 26,
   "metadata": {},
   "outputs": [
    {
     "data": {
      "text/plain": [
       "array([[-0.6303,  1.4219],\n",
       "       [-1.9172, -1.6238],\n",
       "       [ 1.1965, -1.0728],\n",
       "       [ 0.7448, -1.4509],\n",
       "       [-2.2848, -2.0353]])"
      ]
     },
     "execution_count": 26,
     "metadata": {},
     "output_type": "execute_result"
    }
   ],
   "source": [
    "res = np.array(res)  \n",
    "res[:5]"
   ]
  },
  {
   "cell_type": "code",
   "execution_count": 27,
   "metadata": {},
   "outputs": [
    {
     "data": {
      "image/png": "[encoded data removed]",
      "text/plain": [
       "<Figure size 720x432 with 1 Axes>"
      ]
     },
     "metadata": {
      "needs_background": "light"
     },
     "output_type": "display_data"
    }
   ],
   "source": [
    "plt.figure(figsize=(10, 6))\n",
    "plt.plot(res.T[0], res.T[1], 'ro');"
   ]
  },
  {
   "cell_type": "code",
   "execution_count": 28,
   "metadata": {},
   "outputs": [],
   "source": [
    "filename = path + 'earray.h5'\n",
    "h5 = tb.open_file(filename, 'w')\n",
    "n = 500  \n",
    "ear = h5.create_earray('/', 'ear',  \n",
    "                                atom=tb.Float64Atom(),  \n",
    "                                shape=(0, n))"
   ]
  },
  {
   "cell_type": "code",
   "execution_count": 29,
   "metadata": {},
   "outputs": [
    {
     "data": {
      "text/plain": [
       "tables.earray.EArray"
      ]
     },
     "execution_count": 29,
     "metadata": {},
     "output_type": "execute_result"
    }
   ],
   "source": [
    "type(ear)"
   ]
  },
  {
   "cell_type": "code",
   "execution_count": 30,
   "metadata": {},
   "outputs": [
    {
     "data": {
      "text/plain": [
       "array([[ 0.85432676, -0.86252419,  0.48203994, -0.16257479],\n",
       "       [ 1.39222371,  0.0418079 ,  0.36807902, -1.4372718 ],\n",
       "       [ 1.39751399,  0.00231545,  1.78658167,  2.0844786 ],\n",
       "       [-0.33492329,  0.59982154,  0.98860673, -1.81647399]])"
      ]
     },
     "execution_count": 30,
     "metadata": {},
     "output_type": "execute_result"
    }
   ],
   "source": [
    "rand = np.random.standard_normal((n, n))  \n",
    "rand[:4, :4]"
   ]
  },
  {
   "cell_type": "code",
   "execution_count": 31,
   "metadata": {},
   "outputs": [
    {
     "name": "stdout",
     "output_type": "stream",
     "text": [
      "CPU times: user 581 ms, sys: 816 ms, total: 1.4 s\n",
      "Wall time: 2.03 s\n"
     ]
    }
   ],
   "source": [
    "%%time\n",
    "for _ in range(750):\n",
    "              ear.append(rand)  \n",
    "ear.flush()"
   ]
  },
  {
   "cell_type": "code",
   "execution_count": 32,
   "metadata": {},
   "outputs": [
    {
     "data": {
      "text/plain": [
       "/ear (EArray(375000, 500)) ''\n",
       "  atom := Float64Atom(shape=(), dflt=0.0)\n",
       "  maindim := 0\n",
       "  flavor := 'numpy'\n",
       "  byteorder := 'little'\n",
       "  chunkshape := (16, 500)"
      ]
     },
     "execution_count": 32,
     "metadata": {},
     "output_type": "execute_result"
    }
   ],
   "source": [
    "ear"
   ]
  },
  {
   "cell_type": "code",
   "execution_count": 33,
   "metadata": {},
   "outputs": [
    {
     "data": {
      "text/plain": [
       "1500032000"
      ]
     },
     "execution_count": 33,
     "metadata": {},
     "output_type": "execute_result"
    }
   ],
   "source": [
    "ear.size_on_disk"
   ]
  },
  {
   "cell_type": "code",
   "execution_count": 34,
   "metadata": {},
   "outputs": [],
   "source": [
    "out = h5.create_earray('/', 'out',\n",
    "                                atom=tb.Float64Atom(),\n",
    "                                shape=(0, n))"
   ]
  },
  {
   "cell_type": "code",
   "execution_count": 35,
   "metadata": {},
   "outputs": [],
   "source": [
    "expr = tb.Expr('3 * sin(ear) + sqrt(abs(ear))')"
   ]
  },
  {
   "cell_type": "code",
   "execution_count": 36,
   "metadata": {},
   "outputs": [],
   "source": [
    "expr.set_output(out, append_mode=True)"
   ]
  },
  {
   "cell_type": "code",
   "execution_count": 37,
   "metadata": {},
   "outputs": [
    {
     "name": "stdout",
     "output_type": "stream",
     "text": [
      "CPU times: user 3.27 s, sys: 2.05 s, total: 5.32 s\n",
      "Wall time: 9.27 s\n"
     ]
    },
    {
     "data": {
      "text/plain": [
       "/out (EArray(375000, 500)) ''\n",
       "  atom := Float64Atom(shape=(), dflt=0.0)\n",
       "  maindim := 0\n",
       "  flavor := 'numpy'\n",
       "  byteorder := 'little'\n",
       "  chunkshape := (16, 500)"
      ]
     },
     "execution_count": 37,
     "metadata": {},
     "output_type": "execute_result"
    }
   ],
   "source": [
    " %time expr.eval() "
   ]
  },
  {
   "cell_type": "code",
   "execution_count": 38,
   "metadata": {},
   "outputs": [
    {
     "name": "stdout",
     "output_type": "stream",
     "text": [
      "CPU times: user 885 ms, sys: 1.58 s, total: 2.46 s\n",
      "Wall time: 5.23 s\n"
     ]
    }
   ],
   "source": [
    "%time out_ = out.read()"
   ]
  },
  {
   "cell_type": "code",
   "execution_count": 39,
   "metadata": {},
   "outputs": [],
   "source": [
    "#TsTable\n",
    "no = 5000000  \n",
    "co = 3  \n",
    "interval = 1. / (12 * 30 * 24 * 60) \n",
    "vol = 0.2"
   ]
  },
  {
   "cell_type": "code",
   "execution_count": 40,
   "metadata": {},
   "outputs": [],
   "source": [
    "rn = np.random.standard_normal((no, co))  \n",
    "rn[0] = 0.0  \n",
    "paths = 100 * np.exp(np.cumsum(-0.5 * vol ** 2 * interval +vol * np.sqrt(interval) * rn, axis=0))  \n",
    "paths[0] = 100  "
   ]
  },
  {
   "cell_type": "code",
   "execution_count": 41,
   "metadata": {},
   "outputs": [],
   "source": [
    "dr = pd.date_range('2019-1-1', periods=no, freq='1s')"
   ]
  },
  {
   "cell_type": "code",
   "execution_count": 42,
   "metadata": {},
   "outputs": [
    {
     "data": {
      "text/plain": [
       "DatetimeIndex(['2019-02-27 20:53:14', '2019-02-27 20:53:15',\n",
       "               '2019-02-27 20:53:16', '2019-02-27 20:53:17',\n",
       "               '2019-02-27 20:53:18', '2019-02-27 20:53:19'],\n",
       "              dtype='datetime64[ns]', freq='S')"
      ]
     },
     "execution_count": 42,
     "metadata": {},
     "output_type": "execute_result"
    }
   ],
   "source": [
    "dr[-6:]"
   ]
  },
  {
   "cell_type": "code",
   "execution_count": 43,
   "metadata": {},
   "outputs": [],
   "source": [
    "df = pd.DataFrame(paths, index=dr, columns=['ts1', 'ts2', 'ts3'])"
   ]
  },
  {
   "cell_type": "code",
   "execution_count": 44,
   "metadata": {},
   "outputs": [
    {
     "data": {
      "text/html": [
       "<div>\n",
       "<style scoped>\n",
       "    .dataframe tbody tr th:only-of-type {\n",
       "        vertical-align: middle;\n",
       "    }\n",
       "\n",
       "    .dataframe tbody tr th {\n",
       "        vertical-align: top;\n",
       "    }\n",
       "\n",
       "    .dataframe thead th {\n",
       "        text-align: right;\n",
       "    }\n",
       "</style>\n",
       "<table border=\"1\" class=\"dataframe\">\n",
       "  <thead>\n",
       "    <tr style=\"text-align: right;\">\n",
       "      <th></th>\n",
       "      <th>ts1</th>\n",
       "      <th>ts2</th>\n",
       "      <th>ts3</th>\n",
       "    </tr>\n",
       "  </thead>\n",
       "  <tbody>\n",
       "    <tr>\n",
       "      <th>2019-01-01 00:00:00</th>\n",
       "      <td>100.000000</td>\n",
       "      <td>100.000000</td>\n",
       "      <td>100.000000</td>\n",
       "    </tr>\n",
       "    <tr>\n",
       "      <th>2019-01-01 00:00:01</th>\n",
       "      <td>100.000851</td>\n",
       "      <td>99.988748</td>\n",
       "      <td>99.969583</td>\n",
       "    </tr>\n",
       "    <tr>\n",
       "      <th>2019-01-01 00:00:02</th>\n",
       "      <td>99.964192</td>\n",
       "      <td>100.069826</td>\n",
       "      <td>99.847428</td>\n",
       "    </tr>\n",
       "    <tr>\n",
       "      <th>2019-01-01 00:00:03</th>\n",
       "      <td>99.988766</td>\n",
       "      <td>100.031353</td>\n",
       "      <td>99.813762</td>\n",
       "    </tr>\n",
       "    <tr>\n",
       "      <th>2019-01-01 00:00:04</th>\n",
       "      <td>99.929796</td>\n",
       "      <td>99.989724</td>\n",
       "      <td>99.825407</td>\n",
       "    </tr>\n",
       "  </tbody>\n",
       "</table>\n",
       "</div>"
      ],
      "text/plain": [
       "                            ts1         ts2         ts3\n",
       "2019-01-01 00:00:00  100.000000  100.000000  100.000000\n",
       "2019-01-01 00:00:01  100.000851   99.988748   99.969583\n",
       "2019-01-01 00:00:02   99.964192  100.069826   99.847428\n",
       "2019-01-01 00:00:03   99.988766  100.031353   99.813762\n",
       "2019-01-01 00:00:04   99.929796   99.989724   99.825407"
      ]
     },
     "execution_count": 44,
     "metadata": {},
     "output_type": "execute_result"
    }
   ],
   "source": [
    "df.head()              "
   ]
  },
  {
   "cell_type": "code",
   "execution_count": 45,
   "metadata": {},
   "outputs": [
    {
     "ename": "ModuleNotFoundError",
     "evalue": "No module named 'tstables'",
     "output_type": "error",
     "traceback": [
      "\u001b[0;31m---------------------------------------------------------------------------\u001b[0m",
      "\u001b[0;31mModuleNotFoundError\u001b[0m                       Traceback (most recent call last)",
      "\u001b[0;32m<ipython-input-45-6731ca617fe5>\u001b[0m in \u001b[0;36m<module>\u001b[0;34m\u001b[0m\n\u001b[0;32m----> 1\u001b[0;31m \u001b[0;32mimport\u001b[0m \u001b[0mtstables\u001b[0m \u001b[0;32mas\u001b[0m \u001b[0mtstab\u001b[0m\u001b[0;34m\u001b[0m\u001b[0;34m\u001b[0m\u001b[0m\n\u001b[0m",
      "\u001b[0;31mModuleNotFoundError\u001b[0m: No module named 'tstables'"
     ]
    }
   ],
   "source": [
    "import tstables as tstab"
   ]
  },
  {
   "cell_type": "markdown",
   "metadata": {},
   "source": [
    "## Tstablesはanacondaには入っていないので教科書を見ながら説明します"
   ]
  },
  {
   "cell_type": "markdown",
   "metadata": {},
   "source": [
    "#### 概説するとTstablesは膨大な時系列データの処理を高速でできます"
   ]
  },
  {
   "cell_type": "code",
   "execution_count": null,
   "metadata": {},
   "outputs": [],
   "source": []
  }
 ],
 "metadata": {
  "kernelspec": {
   "display_name": "Python 3",
   "language": "python",
   "name": "python3"
  },
  "language_info": {
   "codemirror_mode": {
    "name": "ipython",
    "version": 3
   },
   "file_extension": ".py",
   "mimetype": "text/x-python",
   "name": "python",
   "nbconvert_exporter": "python",
   "pygments_lexer": "ipython3",
   "version": "3.7.3"
  }
 },
 "nbformat": 4,
 "nbformat_minor": 2
}
