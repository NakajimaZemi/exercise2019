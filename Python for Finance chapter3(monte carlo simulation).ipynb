{
 "cells": [
  {
   "cell_type": "markdown",
   "metadata": {},
   "source": [
    "# monte carlo simulation"
   ]
  },
  {
   "cell_type": "code",
   "execution_count": 128,
   "metadata": {},
   "outputs": [],
   "source": [
    "def bsm_call_value(S0,K,T,r,sigma):\n",
    "    from math import log,sqrt,exp\n",
    "    from scipy import stats\n",
    "    \n",
    "    S0 = float(S0)\n",
    "    d1 = (log(S0 / K ) + (r + 0.5 * sigma ** 2) * T) /(sigma * sqrt(T))\n",
    "    d2 = (log(S0 / K ) + (r - 0.5 * sigma ** 2) * T) /(sigma * sqrt(T))\n",
    "    value = (S0 * stats.norm.cdf(d1,0.0,1.0)\n",
    "            - K * exp(-r * T) * stats.norm.cdf(d2,0.0,1.0))\n",
    "    return value\n",
    "\n",
    "def bsm_vega(S0,K,T,r,sigma):\n",
    "    from math import log,sqrt\n",
    "    from scipy import stats \n",
    "    S0 = float(S0)\n",
    "    d1 = (log(S0 / K ) + (r + 0.5 * sigma ** 2) * T) /(sigma * sqrt(T))\n",
    "    vega = S0 * stats.norm.cdf(d1,0.0,1.0) * sqrt(T)\n",
    "\n",
    "    return vega\n",
    "\n",
    "def bsm_implied_volatility(S0,K,T,r,C0,sigma_est, it= 100):\n",
    "    for i in range(it):\n",
    "        sigma_est -= ((bsm_call_value(S0,K,T,r,sigma_est) - C0)\n",
    "                     / bsm_vega(S0,K,T,r,sigma_est))\n",
    "    return sigma_est"
   ]
  },
  {
   "cell_type": "code",
   "execution_count": 129,
   "metadata": {},
   "outputs": [
    {
     "data": {
      "text/plain": [
       "8.021352235143176"
      ]
     },
     "execution_count": 129,
     "metadata": {},
     "output_type": "execute_result"
    }
   ],
   "source": [
    "bsm_call_value(100,105,1.0,0.05,0.2)"
   ]
  },
  {
   "cell_type": "markdown",
   "metadata": {},
   "source": [
    "### pure python"
   ]
  },
  {
   "cell_type": "code",
   "execution_count": 115,
   "metadata": {},
   "outputs": [],
   "source": [
    "from time import time\n",
    "from math import exp, sqrt, log\n",
    "from random import gauss, seed"
   ]
  },
  {
   "cell_type": "code",
   "execution_count": 116,
   "metadata": {},
   "outputs": [],
   "source": [
    "seed(20000)"
   ]
  },
  {
   "cell_type": "code",
   "execution_count": 117,
   "metadata": {},
   "outputs": [],
   "source": [
    "# t0 = time()"
   ]
  },
  {
   "cell_type": "code",
   "execution_count": 120,
   "metadata": {},
   "outputs": [],
   "source": [
    "S0 = 100 # initial value\n",
    "K = 105 # strike price\n",
    "T = 1.0 # maturity\n",
    "r = 0.05 # riskless short rate\n",
    "sigma = 0.2 # volatility\n",
    "M = 50 # number of time steps\n",
    "dt = T/M #length of time interval\n",
    "I = 250000 # number of paths"
   ]
  },
  {
   "cell_type": "code",
   "execution_count": 123,
   "metadata": {},
   "outputs": [],
   "source": [
    "S = [] # 空のリスト作成\n",
    "for i in range(I):# i=Iまで繰り返し\n",
    "    path = [] # 空のリスト作成\n",
    "    for t in range (M+1):#時間に関する繰り返し。この場合はM（満期）まで。\n",
    "        if t == 0: \n",
    "            path.append(S0) # t=0の時は、初期値S0をpathリストに加える\n",
    "        else:\n",
    "            z = gauss(0.0,1.0) #zを標準正規分布に従う乱数とする\n",
    "            St = path[t-1]*exp((r-0.5*sigma**2)*dt+sigma*sqrt(dt)*z) #Stをオイラー法（3.6式）によって求める\n",
    "            path.append(St) #求まったStをpathに加える。\n",
    "    S.append(path) # pathをSリストに加える"
   ]
  },
  {
   "cell_type": "code",
   "execution_count": 124,
   "metadata": {},
   "outputs": [],
   "source": [
    "# monte carlo estimatorを回す\n",
    "\n",
    "C0 = exp(-r*T)*sum([max(path[-1]-K,0) for path in S])/I # 3.7式より、monte carlo estimatorを計算。"
   ]
  },
  {
   "cell_type": "code",
   "execution_count": 125,
   "metadata": {},
   "outputs": [
    {
     "data": {
      "text/plain": [
       "8.022585940104033"
      ]
     },
     "execution_count": 125,
     "metadata": {},
     "output_type": "execute_result"
    }
   ],
   "source": [
    "C0"
   ]
  },
  {
   "cell_type": "code",
   "execution_count": 28,
   "metadata": {},
   "outputs": [
    {
     "name": "stdout",
     "output_type": "stream",
     "text": [
      "European Option Value   8.037\n",
      "Duration in Seconds 1368.131\n"
     ]
    }
   ],
   "source": [
    "#結果の確認\n",
    "\n",
    "# tpy = time()-t0\n",
    "# print(\"European Option Value %7.3f\"%C0)\n",
    "# print(\"Duration in Seconds %7.3f\"%tpy)"
   ]
  },
  {
   "cell_type": "code",
   "execution_count": 132,
   "metadata": {},
   "outputs": [],
   "source": [
    "# 関数にしたバージョン（中身は同じ）\n",
    "\n",
    "def simple_MC(): \n",
    "    \n",
    "    S = []\n",
    "    for i in range(I):\n",
    "        path = []\n",
    "        for t in range(M+1):\n",
    "            if t == 0:\n",
    "                path.append(S0)\n",
    "            else:\n",
    "                z = gauss(0.0,1.0)\n",
    "                St = path[t - 1] * exp((r - 0.5 * sigma ** 2) * dt\n",
    "                                        + sigma * sqrt(dt) * z)\n",
    "                path.append(St)\n",
    "        S.append(path)\n",
    "        \n",
    "    C0 = exp(-r * T ) * sum([max(path[-1] - K,0) for path in S]) / I\n",
    "    # tpy  = time() - t0\n",
    "    \n",
    "    print (\"european otion value %7.3f\" % C0)\n",
    "    \n",
    "    # print (\"duration is sec %7.3f\" % tpy)\n",
    "\n"
   ]
  },
  {
   "cell_type": "code",
   "execution_count": 138,
   "metadata": {},
   "outputs": [
    {
     "name": "stdout",
     "output_type": "stream",
     "text": [
      "european otion value   8.048\n",
      "CPU times: user 53.3 s, sys: 3.4 s, total: 56.7 s\n",
      "Wall time: 57.5 s\n"
     ]
    }
   ],
   "source": [
    "%%time\n",
    "simple_MC()"
   ]
  },
  {
   "cell_type": "code",
   "execution_count": 103,
   "metadata": {},
   "outputs": [
    {
     "data": {
      "text/plain": [
       "8.037"
      ]
     },
     "execution_count": 103,
     "metadata": {},
     "output_type": "execute_result"
    }
   ],
   "source": [
    "# for loopをうまく用いて、より効率的に書くこともできる。\n",
    "sum_val = 0.0\n",
    "for path in S:\n",
    "    # C-like iteration for comparison\n",
    "    sum_val += max(path[-1] - K, 0)\n",
    "C0 = exp(-r * T) * sum_val / I\n",
    "round(C0, 3)"
   ]
  },
  {
   "cell_type": "markdown",
   "metadata": {},
   "source": [
    "### vectorization with Numpy"
   ]
  },
  {
   "cell_type": "code",
   "execution_count": 73,
   "metadata": {},
   "outputs": [
    {
     "data": {
      "text/plain": [
       "array([1, 2, 3, 4, 5])"
      ]
     },
     "execution_count": 73,
     "metadata": {},
     "output_type": "execute_result"
    }
   ],
   "source": [
    "import numpy as np\n",
    "v = np.arange(1,6)\n",
    "v"
   ]
  },
  {
   "cell_type": "code",
   "execution_count": 74,
   "metadata": {},
   "outputs": [
    {
     "data": {
      "text/plain": [
       "array([ 2,  4,  6,  8, 10])"
      ]
     },
     "execution_count": 74,
     "metadata": {},
     "output_type": "execute_result"
    }
   ],
   "source": [
    "2*v"
   ]
  },
  {
   "cell_type": "code",
   "execution_count": 136,
   "metadata": {},
   "outputs": [],
   "source": [
    "# numpyを用いたmonte carlo valuation\n",
    "\n",
    "import numpy as np\n",
    "import math\n",
    "from time import time\n",
    "\n",
    "def vector_MC():\n",
    "    S = np.zeros((M+1,I)) #SをM+1行 I列の零行列とする\n",
    "    S[0] = S0 # Sの1要素目をS0とする\n",
    "    \n",
    "    for t in range(1,M+1): #時間に関する繰り返し。この場合はM（満期）まで。\n",
    "        z = np.random.standard_normal(I) # 標準正規分布に従う乱数\n",
    "        S[t] = S[t-1] * np.exp((r-0.5*sigma**2)*dt+sigma*math.sqrt(dt)*z) # Stをオイラー法によって求める　　\n",
    "        \n",
    "    C0 = math.exp(-r*T)*np.sum(np.maximum(S[-1]-K,0))/I\n",
    "    # tmp = time()-t0\n",
    "        \n",
    "    print (\"european otion value %7.3f\" % C0)\n",
    "    # print (\"duration is sec %7.3f\" % tmp)"
   ]
  },
  {
   "cell_type": "code",
   "execution_count": 137,
   "metadata": {},
   "outputs": [
    {
     "name": "stdout",
     "output_type": "stream",
     "text": [
      "european otion value   8.029\n",
      "CPU times: user 612 ms, sys: 47 ms, total: 659 ms\n",
      "Wall time: 659 ms\n"
     ]
    }
   ],
   "source": [
    "%%time\n",
    "vector_MC()"
   ]
  },
  {
   "cell_type": "markdown",
   "metadata": {},
   "source": [
    "### Full Vectorization with Log Euler Scheme"
   ]
  },
  {
   "cell_type": "code",
   "execution_count": 139,
   "metadata": {},
   "outputs": [],
   "source": [
    "from numpy import *\n",
    "\n",
    "# for loopなしでmonte carloを回すことができる。 t=Tまでの累積和で表現。これは対数オイラー法と同値。\n",
    "\n",
    "def full_vector_MC():\n",
    "    \n",
    "    S = np.zeros((M+1,I))\n",
    "    S[0] = S0\n",
    "    S = S0 * exp(np.cumsum((r - 0.5 * sigma ** 2) * dt + sigma * math.sqrt(dt)* np.random.standard_normal((M+1,I)),axis=0)) # オイラー方のtについて累積和を取っている。　　　　　\n",
    "    \n",
    "    C0 = math.exp(-r * T) * sum(maximum(S[-1] - K,0)) / I    \n",
    "    # tmp2 = time() - t0\n",
    "    \n",
    "    print (\"european otion value %7.3f\" % C0)\n",
    "    # print (\"duration is sec %7.3f\" % tmp2)\n"
   ]
  },
  {
   "cell_type": "code",
   "execution_count": 140,
   "metadata": {},
   "outputs": [
    {
     "name": "stdout",
     "output_type": "stream",
     "text": [
      "european otion value   8.153\n",
      "CPU times: user 793 ms, sys: 152 ms, total: 945 ms\n",
      "Wall time: 966 ms\n"
     ]
    }
   ],
   "source": [
    "%%time\n",
    "full_vector_MC()"
   ]
  },
  {
   "cell_type": "markdown",
   "metadata": {},
   "source": [
    "### Graphical Analysis"
   ]
  },
  {
   "cell_type": "code",
   "execution_count": 145,
   "metadata": {},
   "outputs": [],
   "source": [
    "import matplotlib.pyplot as plt\n",
    "\n",
    "# 全期間、パス10こ\n",
    "\n",
    "def visualize_MC_1():\n",
    "    S = np.zeros((M+1,I)) #SをM+1行 I列の零行列とする\n",
    "    S[0] = S0 # Sの1要素目をS0とする\n",
    "    \n",
    "    for t in range(1,M+1): #時間に関する繰り返し。この場合はM（満期）まで。\n",
    "        z = np.random.standard_normal(I) # 標準正規分布に従う乱数\n",
    "        S[t] = S[t-1] * np.exp((r-0.5*sigma**2)*dt+sigma*math.sqrt(dt)*z) # Stをオイラー法によって求める　　\n",
    "    plt.plot(S[:,:10])\n",
    "    plt.grid(True)\n",
    "    plt.xlabel('time step')\n",
    "    plt.ylabel('index level')\n",
    "    #plt.ylim(50,150)"
   ]
  },
  {
   "cell_type": "code",
   "execution_count": 146,
   "metadata": {},
   "outputs": [
    {
     "data": {
      "image/png": "[encoded data removed]",
      "text/plain": [
       "<Figure size 432x288 with 1 Axes>"
      ]
     },
     "metadata": {},
     "output_type": "display_data"
    }
   ],
   "source": [
    "visualize_MC_1()"
   ]
  },
  {
   "cell_type": "code",
   "execution_count": 149,
   "metadata": {},
   "outputs": [],
   "source": [
    "#満期でのindex level velues (ST) の分布を見る。\n",
    "\n",
    "def vector_MC_2():\n",
    "    S = np.zeros((M+1,I)) #SをM+1行 I列の零行列とする\n",
    "    S[0] = S0 # Sの1要素目をS0とする\n",
    "    \n",
    "    for t in range(1,M+1): #時間に関する繰り返し。この場合はM（満期）まで。\n",
    "        z = np.random.standard_normal(I) # 標準正規分布に従う乱数\n",
    "        S[t] = S[t-1] * np.exp((r-0.5*sigma**2)*dt+sigma*math.sqrt(dt)*z) # Stをオイラー法によって求める　　\n",
    "        \n",
    "    plt.hist(S[-1],bins = 50) # bins:ビン数（そのまま笑）\n",
    "    plt.grid(True)\n",
    "    plt.xlabel('index level')\n",
    "    plt.ylabel('frequency')"
   ]
  },
  {
   "cell_type": "code",
   "execution_count": 150,
   "metadata": {},
   "outputs": [
    {
     "data": {
      "image/png": "[encoded data removed]",
      "text/plain": [
       "<Figure size 432x288 with 1 Axes>"
      ]
     },
     "metadata": {},
     "output_type": "display_data"
    }
   ],
   "source": [
    "vector_MC_2()"
   ]
  },
  {
   "cell_type": "code",
   "execution_count": 151,
   "metadata": {},
   "outputs": [],
   "source": [
    "# 満期でのinner value の分布を見てみる。\n",
    "\n",
    "def vector_MC_3():\n",
    "    S = np.zeros((M+1,I)) #SをM+1行 I列の零行列とする\n",
    "    S[0] = S0 # Sの1要素目をS0とする\n",
    "    \n",
    "    for t in range(1,M+1): #時間に関する繰り返し。この場合はM（満期）まで。\n",
    "        z = np.random.standard_normal(I) # 標準正規分布に従う乱数\n",
    "        S[t] = S[t-1] * np.exp((r-0.5*sigma**2)*dt+sigma*math.sqrt(dt)*z) # Stをオイラー法によって求める　　\n",
    "        \n",
    "    plt.hist(np.maximum(S[-1]-K,0),bins=50)\n",
    "    plt.grid(True)\n",
    "    plt.xlabel('option inner value')\n",
    "    plt.ylabel('frequency')"
   ]
  },
  {
   "cell_type": "code",
   "execution_count": 152,
   "metadata": {},
   "outputs": [
    {
     "data": {
      "image/png": "[encoded data removed]",
      "text/plain": [
       "<Figure size 432x288 with 1 Axes>"
      ]
     },
     "metadata": {},
     "output_type": "display_data"
    }
   ],
   "source": [
    "vector_MC_3()"
   ]
  },
  {
   "cell_type": "code",
   "execution_count": null,
   "metadata": {},
   "outputs": [],
   "source": []
  }
 ],
 "metadata": {
  "kernelspec": {
   "display_name": "Python 3",
   "language": "python",
   "name": "python3"
  },
  "language_info": {
   "codemirror_mode": {
    "name": "ipython",
    "version": 3
   },
   "file_extension": ".py",
   "mimetype": "text/x-python",
   "name": "python",
   "nbconvert_exporter": "python",
   "pygments_lexer": "ipython3",
   "version": "3.6.4"
  }
 },
 "nbformat": 4,
 "nbformat_minor": 2
}
